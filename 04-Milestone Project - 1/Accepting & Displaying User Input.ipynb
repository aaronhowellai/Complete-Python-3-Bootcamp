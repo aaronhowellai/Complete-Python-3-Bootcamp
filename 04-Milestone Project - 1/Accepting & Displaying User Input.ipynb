{
 "cells": [
  {
   "cell_type": "markdown",
   "id": "0acef762",
   "metadata": {},
   "source": [
    "# Displaying & Accepting User Input "
   ]
  },
  {
   "cell_type": "markdown",
   "id": "fce53f3c",
   "metadata": {},
   "source": [
    "## Warm up\n",
    "\n",
    "* Grab user input \n",
    "* Manipulate a variable based on input \n",
    "* Return back adjusted variable "
   ]
  },
  {
   "cell_type": "markdown",
   "id": "ba42ada5",
   "metadata": {},
   "source": [
    "## Essential Components of An Interactive Program\n",
    "* Visual Representation\n",
    "* User Input \n",
    "* Function\n",
    "* Updates \n",
    "* New Visual "
   ]
  },
  {
   "cell_type": "markdown",
   "id": "b9f53190",
   "metadata": {},
   "source": [
    "# How To Combine a Custom Function Using a Def Call\n",
    "### *along with the already built-in print function*"
   ]
  },
  {
   "cell_type": "code",
   "execution_count": 1,
   "id": "14a38902",
   "metadata": {},
   "outputs": [
    {
     "name": "stdout",
     "output_type": "stream",
     "text": [
      "[1, 2, 3]\n"
     ]
    }
   ],
   "source": [
    "print([1,2,3])"
   ]
  },
  {
   "cell_type": "code",
   "execution_count": 2,
   "id": "b7d2ebfc",
   "metadata": {},
   "outputs": [
    {
     "name": "stdout",
     "output_type": "stream",
     "text": [
      "[1, 2, 3]\n",
      "[4, 5, 6]\n",
      "[7, 8, 9]\n"
     ]
    }
   ],
   "source": [
    "print([1,2,3])\n",
    "print([4,5,6])\n",
    "print([7,8,9])"
   ]
  },
  {
   "cell_type": "code",
   "execution_count": 3,
   "id": "cc75a7f3",
   "metadata": {},
   "outputs": [],
   "source": [
    "# Function to call a whole tic-tac-toe board\n",
    "\n",
    "def display(row1,row2,row3):\n",
    "    print(row1)\n",
    "    print(row2)\n",
    "    print(row3)"
   ]
  },
  {
   "cell_type": "code",
   "execution_count": 4,
   "id": "7f8e9c46",
   "metadata": {},
   "outputs": [],
   "source": [
    "# Defining tic-tac-toe board\n",
    "\n",
    "row1 = [' ',' ',' ']\n",
    "row2 = [' ',' ',' ']\n",
    "row3 = [' ',' ',' ']"
   ]
  },
  {
   "cell_type": "code",
   "execution_count": 5,
   "id": "d13a60b0",
   "metadata": {
    "scrolled": true
   },
   "outputs": [
    {
     "name": "stdout",
     "output_type": "stream",
     "text": [
      "[' ', ' ', ' ']\n",
      "[' ', ' ', ' ']\n",
      "[' ', ' ', ' ']\n"
     ]
    }
   ],
   "source": [
    "display(row1,row2,row3)"
   ]
  },
  {
   "cell_type": "code",
   "execution_count": 6,
   "id": "6fbba37e",
   "metadata": {},
   "outputs": [],
   "source": [
    "# Manipulating a variable based on input\n",
    "\n",
    "row2[1] = 'X'"
   ]
  },
  {
   "cell_type": "code",
   "execution_count": 7,
   "id": "b6b06adc",
   "metadata": {
    "scrolled": true
   },
   "outputs": [
    {
     "name": "stdout",
     "output_type": "stream",
     "text": [
      "[' ', ' ', ' ']\n",
      "[' ', 'X', ' ']\n",
      "[' ', ' ', ' ']\n"
     ]
    }
   ],
   "source": [
    "# Displaying information from a manipulated variable\n",
    "\n",
    "display(row1,row2,row3)"
   ]
  },
  {
   "cell_type": "markdown",
   "id": "a1380d8a",
   "metadata": {},
   "source": [
    "# Accepting User Input"
   ]
  },
  {
   "cell_type": "code",
   "execution_count": 8,
   "id": "4136f52d",
   "metadata": {
    "scrolled": true
   },
   "outputs": [
    {
     "name": "stdout",
     "output_type": "stream",
     "text": [
      "please enter a value: \n"
     ]
    },
    {
     "data": {
      "text/plain": [
       "''"
      ]
     },
     "execution_count": 8,
     "metadata": {},
     "output_type": "execute_result"
    }
   ],
   "source": [
    "input('please enter a value: ')"
   ]
  },
  {
   "cell_type": "code",
   "execution_count": 9,
   "id": "d869f43d",
   "metadata": {},
   "outputs": [
    {
     "name": "stdout",
     "output_type": "stream",
     "text": [
      "please enter a value: 4\n"
     ]
    }
   ],
   "source": [
    "result = input('please enter a value: ')"
   ]
  },
  {
   "cell_type": "code",
   "execution_count": 10,
   "id": "3ac5d795",
   "metadata": {},
   "outputs": [
    {
     "data": {
      "text/plain": [
       "'4'"
      ]
     },
     "execution_count": 10,
     "metadata": {},
     "output_type": "execute_result"
    }
   ],
   "source": [
    "result"
   ]
  },
  {
   "cell_type": "code",
   "execution_count": 11,
   "id": "1a56ed25",
   "metadata": {},
   "outputs": [
    {
     "name": "stdout",
     "output_type": "stream",
     "text": [
      "please enter a value: 3\n"
     ]
    }
   ],
   "source": [
    "secret = input('please enter a value: ')"
   ]
  },
  {
   "cell_type": "code",
   "execution_count": 12,
   "id": "9217fca1",
   "metadata": {},
   "outputs": [
    {
     "data": {
      "text/plain": [
       "'3'"
      ]
     },
     "execution_count": 12,
     "metadata": {},
     "output_type": "execute_result"
    }
   ],
   "source": [
    "secret"
   ]
  },
  {
   "cell_type": "code",
   "execution_count": 13,
   "id": "97dc8c45",
   "metadata": {},
   "outputs": [
    {
     "data": {
      "text/plain": [
       "str"
      ]
     },
     "execution_count": 13,
     "metadata": {},
     "output_type": "execute_result"
    }
   ],
   "source": [
    "type(secret)"
   ]
  },
  {
   "cell_type": "code",
   "execution_count": 14,
   "id": "f0e5966d",
   "metadata": {},
   "outputs": [
    {
     "name": "stdout",
     "output_type": "stream",
     "text": [
      "please enter a value: 4\n"
     ]
    }
   ],
   "source": [
    "result = input('please enter a value: ')"
   ]
  },
  {
   "cell_type": "code",
   "execution_count": 15,
   "id": "b1e4abb1",
   "metadata": {},
   "outputs": [
    {
     "data": {
      "text/plain": [
       "4"
      ]
     },
     "execution_count": 15,
     "metadata": {},
     "output_type": "execute_result"
    }
   ],
   "source": [
    "int(result)"
   ]
  },
  {
   "cell_type": "code",
   "execution_count": 16,
   "id": "0614737b",
   "metadata": {},
   "outputs": [],
   "source": [
    "result_int = int(result)"
   ]
  },
  {
   "cell_type": "code",
   "execution_count": 17,
   "id": "2e184c35",
   "metadata": {},
   "outputs": [
    {
     "data": {
      "text/plain": [
       "int"
      ]
     },
     "execution_count": 17,
     "metadata": {},
     "output_type": "execute_result"
    }
   ],
   "source": [
    "type(result_int)"
   ]
  },
  {
   "cell_type": "code",
   "execution_count": 18,
   "id": "699f3cac",
   "metadata": {},
   "outputs": [
    {
     "data": {
      "text/plain": [
       "4"
      ]
     },
     "execution_count": 18,
     "metadata": {},
     "output_type": "execute_result"
    }
   ],
   "source": [
    "result_int"
   ]
  },
  {
   "cell_type": "code",
   "execution_count": 19,
   "id": "833fc22a",
   "metadata": {},
   "outputs": [
    {
     "data": {
      "text/plain": [
       "2.3"
      ]
     },
     "execution_count": 19,
     "metadata": {},
     "output_type": "execute_result"
    }
   ],
   "source": [
    "float('2.3')"
   ]
  },
  {
   "cell_type": "code",
   "execution_count": 20,
   "id": "d9fd3743",
   "metadata": {},
   "outputs": [
    {
     "name": "stdout",
     "output_type": "stream",
     "text": [
      "choose index position: 1\n"
     ]
    }
   ],
   "source": [
    "position_index = int(input('choose index position: '))"
   ]
  },
  {
   "cell_type": "code",
   "execution_count": 21,
   "id": "16cea84b",
   "metadata": {},
   "outputs": [
    {
     "data": {
      "text/plain": [
       "int"
      ]
     },
     "execution_count": 21,
     "metadata": {},
     "output_type": "execute_result"
    }
   ],
   "source": [
    "type(position_index)"
   ]
  },
  {
   "cell_type": "code",
   "execution_count": 22,
   "id": "c5eb8eae",
   "metadata": {},
   "outputs": [
    {
     "data": {
      "text/plain": [
       "'X'"
      ]
     },
     "execution_count": 22,
     "metadata": {},
     "output_type": "execute_result"
    }
   ],
   "source": [
    "row2[position_index]"
   ]
  },
  {
   "cell_type": "markdown",
   "id": "979c14cf",
   "metadata": {},
   "source": [
    "# Validating User Input"
   ]
  },
  {
   "cell_type": "markdown",
   "id": "e1a9fe62",
   "metadata": {},
   "source": [
    "* Further validate user input to avoid errors for invalid conversions (for when the users do something wrong, make sure it doesn't break, and can auto-debug)\n",
    "* Users can break your program if you're not checking for edge-case scenarios "
   ]
  },
  {
   "cell_type": "code",
   "execution_count": 23,
   "id": "db8b6353",
   "metadata": {},
   "outputs": [],
   "source": [
    "def user_choice():\n",
    "    \n",
    "    choice = input('please enter a number (0-10): ')\n",
    "    \n",
    "    return int(choice)"
   ]
  },
  {
   "cell_type": "code",
   "execution_count": 24,
   "id": "91925056",
   "metadata": {},
   "outputs": [
    {
     "name": "stdout",
     "output_type": "stream",
     "text": [
      "please enter a number (0-10): 2\n"
     ]
    },
    {
     "data": {
      "text/plain": [
       "2"
      ]
     },
     "execution_count": 24,
     "metadata": {},
     "output_type": "execute_result"
    }
   ],
   "source": [
    "user_choice()"
   ]
  },
  {
   "cell_type": "markdown",
   "id": "ae08eacf",
   "metadata": {},
   "source": [
    "### Check If Choice Is a Digit"
   ]
  },
  {
   "cell_type": "code",
   "execution_count": 25,
   "id": "57777e98",
   "metadata": {},
   "outputs": [],
   "source": [
    "some_value = '100'"
   ]
  },
  {
   "cell_type": "code",
   "execution_count": 26,
   "id": "c9a41be7",
   "metadata": {},
   "outputs": [
    {
     "data": {
      "text/plain": [
       "True"
      ]
     },
     "execution_count": 26,
     "metadata": {},
     "output_type": "execute_result"
    }
   ],
   "source": [
    "some_value.isdigit()"
   ]
  },
  {
   "cell_type": "code",
   "execution_count": 27,
   "id": "77aa106d",
   "metadata": {},
   "outputs": [
    {
     "data": {
      "text/plain": [
       "100"
      ]
     },
     "execution_count": 27,
     "metadata": {},
     "output_type": "execute_result"
    }
   ],
   "source": [
    "int(some_value)"
   ]
  },
  {
   "cell_type": "code",
   "execution_count": 72,
   "id": "7b8e9776",
   "metadata": {},
   "outputs": [],
   "source": [
    "def user_choice():\n",
    "    \n",
    "    choice = 'wrong'\n",
    "    \n",
    "    # continues asking until the correct condition is met\n",
    "    while choice.isdigit() == False:\n",
    "        choice = input('please enter a number (0-10): ')\n",
    "        \n",
    "        if choice.isdigit() == False:\n",
    "            print('')\n",
    "            print('Sorry, the input value was not an integer between 0-10!')\n",
    "    \n",
    "    # changing the data type to an integer\n",
    "    return int(choice)"
   ]
  },
  {
   "cell_type": "code",
   "execution_count": 73,
   "id": "d9e0011b",
   "metadata": {
    "scrolled": true
   },
   "outputs": [
    {
     "name": "stdout",
     "output_type": "stream",
     "text": [
      "please enter a number (0-10): two\n",
      "\n",
      "Sorry, the input value was not an integer between 0-10!\n",
      "please enter a number (0-10): 2\n"
     ]
    },
    {
     "data": {
      "text/plain": [
       "2"
      ]
     },
     "execution_count": 73,
     "metadata": {},
     "output_type": "execute_result"
    }
   ],
   "source": [
    "user_choice()"
   ]
  },
  {
   "cell_type": "markdown",
   "id": "fd24175c",
   "metadata": {},
   "source": [
    "## Checking That The Input Is Actually In The Acceptable Range\n",
    "* Define acceptable and unacceptable values"
   ]
  },
  {
   "cell_type": "code",
   "execution_count": 51,
   "id": "c04840d2",
   "metadata": {},
   "outputs": [],
   "source": [
    "result = 'wrong value'"
   ]
  },
  {
   "cell_type": "code",
   "execution_count": 53,
   "id": "3eee5aff",
   "metadata": {},
   "outputs": [],
   "source": [
    "acceptable_values = range(0,11)"
   ]
  },
  {
   "cell_type": "code",
   "execution_count": 57,
   "id": "96759e2f",
   "metadata": {
    "scrolled": true
   },
   "outputs": [
    {
     "data": {
      "text/plain": [
       "[0, 1, 2, 3, 4, 5, 6, 7, 8, 9, 10]"
      ]
     },
     "execution_count": 57,
     "metadata": {},
     "output_type": "execute_result"
    }
   ],
   "source": [
    "list(range(0,11))"
   ]
  },
  {
   "cell_type": "code",
   "execution_count": 65,
   "id": "854d8a15",
   "metadata": {},
   "outputs": [],
   "source": [
    "result = 'blue'"
   ]
  },
  {
   "cell_type": "markdown",
   "id": "f14673c9",
   "metadata": {},
   "source": [
    "## Is My Variable Acceptable Or Not?\n",
    "* using the <span style=\"color:green\">in</span> and <span style=\"color:green\">not in</span> operators"
   ]
  },
  {
   "cell_type": "code",
   "execution_count": 85,
   "id": "799abb7b",
   "metadata": {},
   "outputs": [
    {
     "data": {
      "text/plain": [
       "9"
      ]
     },
     "execution_count": 85,
     "metadata": {},
     "output_type": "execute_result"
    }
   ],
   "source": [
    "max(range(0,10))"
   ]
  },
  {
   "cell_type": "code",
   "execution_count": 86,
   "id": "69ae727b",
   "metadata": {
    "scrolled": true
   },
   "outputs": [
    {
     "data": {
      "text/plain": [
       "0"
      ]
     },
     "execution_count": 86,
     "metadata": {},
     "output_type": "execute_result"
    }
   ],
   "source": [
    "min(range(0,10))"
   ]
  },
  {
   "cell_type": "code",
   "execution_count": 66,
   "id": "f1d6493f",
   "metadata": {
    "scrolled": true
   },
   "outputs": [
    {
     "data": {
      "text/plain": [
       "False"
      ]
     },
     "execution_count": 66,
     "metadata": {},
     "output_type": "execute_result"
    }
   ],
   "source": [
    "result in acceptable_values"
   ]
  },
  {
   "cell_type": "code",
   "execution_count": 67,
   "id": "de0fca39",
   "metadata": {},
   "outputs": [
    {
     "data": {
      "text/plain": [
       "True"
      ]
     },
     "execution_count": 67,
     "metadata": {},
     "output_type": "execute_result"
    }
   ],
   "source": [
    "result not in acceptable_values"
   ]
  },
  {
   "cell_type": "code",
   "execution_count": 92,
   "id": "fea7b9ca",
   "metadata": {},
   "outputs": [],
   "source": [
    "def user_choice():\n",
    "    \n",
    "    # variables\n",
    "    \n",
    "    # initial \n",
    "    choice = 'wrong'\n",
    "    acceptable_range = range(0,10)\n",
    "    within_range = False\n",
    "    \n",
    "    # two conditions to check\n",
    "    # digit within_range==false\n",
    "    \n",
    "    # continues asking until the correct condition is met\n",
    "    while choice.isdigit() ==  False or within_range==False:\n",
    "        choice = input('please enter a number (0-10): ')\n",
    "        \n",
    "        # dgit check\n",
    "        if choice.isdigit() == False:\n",
    "            print('')\n",
    "            print('Sorry, the input value was not a digit!')\n",
    "            \n",
    "        # range check\n",
    "        if choice.isdigit() == True:\n",
    "            if int(choice) in acceptable_range:\n",
    "                within_range = True\n",
    "            else:\n",
    "                print('Sorry, the input value was not an integer between 0-10!')\n",
    "                within_range = False\n",
    "    \n",
    "    # changing the data type to an integer\n",
    "    return int(choice)"
   ]
  },
  {
   "cell_type": "code",
   "execution_count": 93,
   "id": "a18481ba",
   "metadata": {
    "scrolled": true
   },
   "outputs": [
    {
     "name": "stdout",
     "output_type": "stream",
     "text": [
      "please enter a number (0-10): 100\n",
      "Sorry, the input value was not an integer between 0-10!\n",
      "please enter a number (0-10): two\n",
      "\n",
      "Sorry, the input value was not a digit!\n",
      "please enter a number (0-10): 3\n"
     ]
    },
    {
     "data": {
      "text/plain": [
       "3"
      ]
     },
     "execution_count": 93,
     "metadata": {},
     "output_type": "execute_result"
    }
   ],
   "source": [
    "user_choice()"
   ]
  }
 ],
 "metadata": {
  "kernelspec": {
   "display_name": "Python 3 (ipykernel)",
   "language": "python",
   "name": "python3"
  },
  "language_info": {
   "codemirror_mode": {
    "name": "ipython",
    "version": 3
   },
   "file_extension": ".py",
   "mimetype": "text/x-python",
   "name": "python",
   "nbconvert_exporter": "python",
   "pygments_lexer": "ipython3",
   "version": "3.11.5"
  }
 },
 "nbformat": 4,
 "nbformat_minor": 5
}
