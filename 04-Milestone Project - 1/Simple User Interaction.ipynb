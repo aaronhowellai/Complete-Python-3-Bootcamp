{
 "cells": [
  {
   "cell_type": "markdown",
   "id": "c78072a8",
   "metadata": {},
   "source": [
    "# Interactive Program\n",
    "* Display a list \n",
    "* Have a user choose an index position \n",
    "* Replace value at index position with user's chosen input value "
   ]
  },
  {
   "cell_type": "code",
   "execution_count": 1,
   "id": "f46cbbfd",
   "metadata": {},
   "outputs": [],
   "source": [
    "game_list = [0,1,2]"
   ]
  },
  {
   "cell_type": "code",
   "execution_count": 2,
   "id": "8491daf8",
   "metadata": {},
   "outputs": [],
   "source": [
    "def display_game(game_list):\n",
    "    print('Here is the current list')\n",
    "    print(game_list)"
   ]
  },
  {
   "cell_type": "code",
   "execution_count": 3,
   "id": "59e4d634",
   "metadata": {},
   "outputs": [
    {
     "name": "stdout",
     "output_type": "stream",
     "text": [
      "Here is the current list\n",
      "[0, 1, 2]\n"
     ]
    }
   ],
   "source": [
    "display_game(game_list)"
   ]
  },
  {
   "cell_type": "code",
   "execution_count": 4,
   "id": "be11849f",
   "metadata": {},
   "outputs": [],
   "source": [
    "def position_choice():\n",
    "    \n",
    "    # this original choice can be anything that isn't an integer\n",
    "    while choice not in ['0','1','2']:\n",
    "        \n",
    "        # we shouldn't convert here, otherwise we get an error on a wrong input\n",
    "        choice = input('Pick a position to replace (0,1,2): ')\n",
    "        \n",
    "        if choice not in ['0','1','2']:\n",
    "            # this clears the current output below the cell\n",
    "            clear_output()\n",
    "            \n",
    "            print('Sorry, but you did not choose a valid position (0,1,2)')\n",
    "    \n",
    "    return int(choice)"
   ]
  },
  {
   "cell_type": "code",
   "execution_count": 5,
   "id": "d1a2ef04",
   "metadata": {},
   "outputs": [],
   "source": [
    "def replacement_choice(game_list,position):\n",
    "    \n",
    "    user_replacement = input('Type a string to place at the position')\n",
    "    game_list[position] = user_replacement\n",
    "    return game_list"
   ]
  },
  {
   "cell_type": "code",
   "execution_count": 6,
   "id": "f72f1185",
   "metadata": {},
   "outputs": [],
   "source": [
    "def gameon_choice():\n",
    "    \n",
    "    # this original value can be anything that isn't a Y or N\n",
    "    while choice not in ['Y','N']:\n",
    "        choice = input('Would you like to keep playing Y or N?')\n",
    "        \n",
    "        if choice not in ['Y','N']:\n",
    "            # this clears the current output below the cell\n",
    "            clear_output()\n",
    "            \n",
    "            print(\"Sorry, I didn't understand. Please make sure to choose Y or N.\")\n",
    "    if choice == 'Y':\n",
    "        # game is still on \n",
    "        return True\n",
    "    else:\n",
    "        # game is over\n",
    "        return False"
   ]
  },
  {
   "cell_type": "markdown",
   "id": "38247536",
   "metadata": {},
   "source": [
    "### Game Logic All Together"
   ]
  },
  {
   "cell_type": "code",
   "execution_count": 7,
   "id": "d8440f10",
   "metadata": {},
   "outputs": [
    {
     "ename": "NameError",
     "evalue": "name 'clear_output' is not defined",
     "output_type": "error",
     "traceback": [
      "\u001b[1;31m---------------------------------------------------------------------------\u001b[0m",
      "\u001b[1;31mNameError\u001b[0m                                 Traceback (most recent call last)",
      "Cell \u001b[1;32mIn[7], line 10\u001b[0m\n\u001b[0;32m      5\u001b[0m game_list \u001b[38;5;241m=\u001b[39m [\u001b[38;5;241m0\u001b[39m,\u001b[38;5;241m1\u001b[39m,\u001b[38;5;241m2\u001b[39m]\n\u001b[0;32m      7\u001b[0m \u001b[38;5;28;01mwhile\u001b[39;00m game_on:\n\u001b[0;32m      8\u001b[0m     \n\u001b[0;32m      9\u001b[0m     \u001b[38;5;66;03m# clear any historical output and dhow the game list\u001b[39;00m\n\u001b[1;32m---> 10\u001b[0m     clear_output()\n\u001b[0;32m     11\u001b[0m     display_game(game_list)\n\u001b[0;32m     13\u001b[0m     \u001b[38;5;66;03m# have player choose position\u001b[39;00m\n",
      "\u001b[1;31mNameError\u001b[0m: name 'clear_output' is not defined"
     ]
    }
   ],
   "source": [
    "# variable to keep game playing\n",
    "game_on = True \n",
    "\n",
    "# first game list\n",
    "game_list = [0,1,2]\n",
    "\n",
    "while game_on:\n",
    "    \n",
    "    # clear any historical output and dhow the game list\n",
    "    clear_output()\n",
    "    display_game(game_list)\n",
    "    \n",
    "    # have player choose position\n",
    "    position = position_choice()\n",
    "    \n",
    "    # rwerite that position and update game_list\n",
    "    game_list = replacement_choice(game_list,posiiton)\n",
    "    \n",
    "    # clear screen and show the updated game list\n",
    "    clear_output()\n",
    "    display_game(game_list)\n",
    "    \n",
    "    # ask if you want to keep playing\n",
    "    game_on = gameon_choice()"
   ]
  },
  {
   "cell_type": "markdown",
   "id": "6f4d930a",
   "metadata": {},
   "source": [
    "## Starting Again From Scratch"
   ]
  },
  {
   "cell_type": "markdown",
   "id": "c7fd2e88",
   "metadata": {},
   "source": [
    "### Displaying The Game"
   ]
  },
  {
   "cell_type": "code",
   "execution_count": 16,
   "id": "3d50c89a",
   "metadata": {},
   "outputs": [],
   "source": [
    "game_list = [0,1,2]"
   ]
  },
  {
   "cell_type": "code",
   "execution_count": 17,
   "id": "c5499e89",
   "metadata": {},
   "outputs": [],
   "source": [
    "def display_game(game_list):\n",
    "    print('Here is the current list: ')\n",
    "    print(game_list)"
   ]
  },
  {
   "cell_type": "code",
   "execution_count": 18,
   "id": "e5c6c014",
   "metadata": {},
   "outputs": [
    {
     "name": "stdout",
     "output_type": "stream",
     "text": [
      "Here is the current list: \n",
      "[0, 1, 2]\n"
     ]
    }
   ],
   "source": [
    "display_game(game_list)"
   ]
  },
  {
   "cell_type": "markdown",
   "id": "b8311333",
   "metadata": {},
   "source": [
    "### Position Choice & Edge Case If Wrong"
   ]
  },
  {
   "cell_type": "code",
   "execution_count": 19,
   "id": "a0debd08",
   "metadata": {},
   "outputs": [],
   "source": [
    "def position_choice():\n",
    "    \n",
    "    choice = 'wrong'\n",
    "    \n",
    "    while choice not in ['0','1','2']:\n",
    "        choice = input('Pick a position (0,1,2): ')\n",
    "        \n",
    "        if choice not in ['0','1','2']:\n",
    "            print('Sorry, invalid choice!')\n",
    "            \n",
    "    return int(choice)"
   ]
  },
  {
   "cell_type": "markdown",
   "id": "d15b58a5",
   "metadata": {},
   "source": [
    "### Checking It Works"
   ]
  },
  {
   "cell_type": "code",
   "execution_count": 20,
   "id": "a1014fe5",
   "metadata": {
    "scrolled": true
   },
   "outputs": [
    {
     "name": "stdout",
     "output_type": "stream",
     "text": [
      "Pick a position (0,1,2): 0\n"
     ]
    },
    {
     "data": {
      "text/plain": [
       "0"
      ]
     },
     "execution_count": 20,
     "metadata": {},
     "output_type": "execute_result"
    }
   ],
   "source": [
    "position_choice()"
   ]
  },
  {
   "cell_type": "markdown",
   "id": "64bb5bf0",
   "metadata": {},
   "source": [
    "### Replacement Value If Input Is Chosen Correctly"
   ]
  },
  {
   "cell_type": "code",
   "execution_count": 21,
   "id": "fd5efa78",
   "metadata": {},
   "outputs": [],
   "source": [
    "def replacement_choice(game_list,position):\n",
    "    user_placement = input('Type a string to place at position: ')\n",
    "    game_list[position] = user_placement \n",
    "    return game_list"
   ]
  },
  {
   "cell_type": "markdown",
   "id": "2bb154b8",
   "metadata": {},
   "source": [
    "### Checking It Works"
   ]
  },
  {
   "cell_type": "code",
   "execution_count": 22,
   "id": "5977728c",
   "metadata": {},
   "outputs": [
    {
     "name": "stdout",
     "output_type": "stream",
     "text": [
      "Type a string to place at position: two\n"
     ]
    },
    {
     "data": {
      "text/plain": [
       "[0, 'two', 2]"
      ]
     },
     "execution_count": 22,
     "metadata": {},
     "output_type": "execute_result"
    }
   ],
   "source": [
    "replacement_choice(game_list,1)"
   ]
  },
  {
   "cell_type": "markdown",
   "id": "e4fcd0d4",
   "metadata": {},
   "source": [
    "### Checking That The User Wants To Continue Playing"
   ]
  },
  {
   "cell_type": "code",
   "execution_count": 23,
   "id": "db5e9490",
   "metadata": {},
   "outputs": [],
   "source": [
    "def gameon_choice():\n",
    "    \n",
    "    choice = 'wrong'\n",
    "    \n",
    "    while choice not in ['Y','N']:\n",
    "        choice = input('Keep Playing (Y or N): ')\n",
    "        \n",
    "        if choice not in ['Y','N']:\n",
    "            print(\"Sorry, I don't understand. Please choose Y or N\")\n",
    "            \n",
    "            \n",
    "    if choice == 'Y':\n",
    "        # The game is still on\n",
    "        return True\n",
    "    else:\n",
    "        # The game is not still on\n",
    "        return False"
   ]
  },
  {
   "cell_type": "code",
   "execution_count": 24,
   "id": "5f9c48e7",
   "metadata": {
    "scrolled": false
   },
   "outputs": [
    {
     "name": "stdout",
     "output_type": "stream",
     "text": [
      "Keep Playing (Y or N): N\n"
     ]
    },
    {
     "data": {
      "text/plain": [
       "False"
      ]
     },
     "execution_count": 24,
     "metadata": {},
     "output_type": "execute_result"
    }
   ],
   "source": [
    "gameon_choice()"
   ]
  },
  {
   "cell_type": "markdown",
   "id": "14912e3d",
   "metadata": {},
   "source": [
    "### Putting The Game Logic All Together"
   ]
  },
  {
   "cell_type": "code",
   "execution_count": 25,
   "id": "8c1392d8",
   "metadata": {
    "scrolled": true
   },
   "outputs": [
    {
     "name": "stdout",
     "output_type": "stream",
     "text": [
      "Here is the current list: \n",
      "[0, 1, 2]\n",
      "Pick a position (0,1,2): 1\n",
      "Type a string to place at position: one\n",
      "Here is the current list: \n",
      "[0, 'one', 2]\n",
      "Keep Playing (Y or N): N\n",
      "Thanks for playing!\n"
     ]
    }
   ],
   "source": [
    "# The game starts as on\n",
    "game_on = True\n",
    "# The game starts with the initial game list \n",
    "game_list = [0,1,2]\n",
    "\n",
    "while game_on: \n",
    "    \n",
    "    # display\n",
    "    display_game(game_list)\n",
    "    # accept user information & validate it\n",
    "    position = position_choice()\n",
    "    # update gamelist information\n",
    "    game_list = replacement_choice(game_list,position)\n",
    "    # display the whole updated game\n",
    "    display_game(game_list)\n",
    "    # ask the user if they want to continue playing\n",
    "    game_on = gameon_choice()\n",
    "    \n",
    "if not game_on:\n",
    "    print('Thanks for playing!')"
   ]
  },
  {
   "cell_type": "markdown",
   "id": "05b05748",
   "metadata": {},
   "source": [
    "### Main Things To Be Achieved: \n",
    "* Display information to the user \n",
    "* Accept information from the user\n",
    "* Validate that information\n",
    "* Update what the user is saying"
   ]
  }
 ],
 "metadata": {
  "kernelspec": {
   "display_name": "Python 3 (ipykernel)",
   "language": "python",
   "name": "python3"
  },
  "language_info": {
   "codemirror_mode": {
    "name": "ipython",
    "version": 3
   },
   "file_extension": ".py",
   "mimetype": "text/x-python",
   "name": "python",
   "nbconvert_exporter": "python",
   "pygments_lexer": "ipython3",
   "version": "3.11.5"
  }
 },
 "nbformat": 4,
 "nbformat_minor": 5
}
